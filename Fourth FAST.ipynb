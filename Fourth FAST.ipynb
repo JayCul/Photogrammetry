{
 "cells": [
  {
   "cell_type": "code",
   "execution_count": 2,
   "metadata": {},
   "outputs": [],
   "source": [
    "import cv2\n",
    "import numpy as np\n",
    "from matplotlib import pyplot as plt\n",
    "import os\n",
    "\n",
    "%matplotlib inline"
   ]
  },
  {
   "cell_type": "code",
   "execution_count": 3,
   "metadata": {},
   "outputs": [],
   "source": [
    "import numpy as np\n",
    "import pandas as pd\n",
    "file1=pd.read_excel('C:/Users/Justincul/Documents/Bracket_Stuff/Final_year_project/All Measurements.xlsx')\n",
    "y= []\n",
    "y.append(file1['Chest'])"
   ]
  },
  {
   "cell_type": "code",
   "execution_count": 4,
   "metadata": {},
   "outputs": [],
   "source": [
    "from os import listdir\n",
    "from os.path import isfile, join\n",
    "from skimage import io\n",
    "import numpy as np\n",
    "import cv2\n",
    "\n",
    "#fx, plot = plt.subplots(1, 2, figsize=(20,10))\n",
    "fast = cv2.FastFeatureDetector_create()\n",
    "\n",
    "Train_data = []\n",
    "Train_chest = []\n",
    "\n",
    "Test_data = []\n",
    "Test_chest = []\n",
    "\n",
    "mypath = r'C:\\Users\\Justincul\\Documents\\Bracket_Stuff\\Final_year_project\\project_images\\front'\n",
    "for f in range(0, file1.shape[0]):\n",
    "    im6 = cv2.imread(join(mypath, file1.iloc[f]['Front_Img_name']))\n",
    "    im6_gray = cv2.cvtColor(im6, cv2.COLOR_BGR2GRAY)\n",
    "    fast.setNonmaxSuppression(False)\n",
    "    keypoints_without_nonmax = fast.detect(im6_gray,None)\n",
    "    image_without_nonmax = np.copy(im6_gray)\n",
    "    img_resize= cv2.resize(image_without_nonmax, (224, 224))\n",
    "    cv2.drawKeypoints(im6_gray, keypoints_without_nonmax, image_without_nonmax, color= (255,0,0), flags = cv2.DRAW_MATCHES_FLAGS_DRAW_RICH_KEYPOINTS)\n",
    "    vec6 = np.reshape(img_resize, [1, 224*224])\n",
    "    \n",
    "    if (file1.iloc[f]['Is_train']):\n",
    "        Test_data.append(vec6)\n",
    "        Test_chest.append(file1.iloc[f]['Chest'])\n",
    "    else:\n",
    "        Train_data.append(vec6)\n",
    "        Train_chest.append(file1.iloc[f]['Chest'])\n",
    "        \n",
    "Train_chest = (np.array(Train_chest).astype(np.float32))\n",
    "Train_data = np.matrix(np.array(Train_data))\n",
    "\n",
    "Test_chest = (np.array(Test_chest).astype(np.float32))\n",
    "Test_data = np.matrix(np.array(Test_data))"
   ]
  },
  {
   "cell_type": "code",
   "execution_count": 5,
   "metadata": {},
   "outputs": [
    {
     "data": {
      "text/plain": [
       "(1, 50176)"
      ]
     },
     "execution_count": 5,
     "metadata": {},
     "output_type": "execute_result"
    }
   ],
   "source": [
    "vec6.shape"
   ]
  },
  {
   "cell_type": "code",
   "execution_count": 6,
   "metadata": {},
   "outputs": [
    {
     "data": {
      "text/plain": [
       "(40, 50176)"
      ]
     },
     "execution_count": 6,
     "metadata": {},
     "output_type": "execute_result"
    }
   ],
   "source": [
    "Test_data.shape"
   ]
  },
  {
   "cell_type": "code",
   "execution_count": 7,
   "metadata": {},
   "outputs": [
    {
     "data": {
      "text/plain": [
       "(800, 50176)"
      ]
     },
     "execution_count": 7,
     "metadata": {},
     "output_type": "execute_result"
    }
   ],
   "source": [
    "Train_data.shape"
   ]
  },
  {
   "cell_type": "code",
   "execution_count": 8,
   "metadata": {},
   "outputs": [
    {
     "data": {
      "text/plain": [
       "1201344"
      ]
     },
     "execution_count": 8,
     "metadata": {},
     "output_type": "execute_result"
    }
   ],
   "source": [
    "np.sum(Train_data[1] - Train_data[3])"
   ]
  },
  {
   "cell_type": "code",
   "execution_count": 9,
   "metadata": {},
   "outputs": [
    {
     "name": "stdout",
     "output_type": "stream",
     "text": [
      "[11 11 11 11 11  7  7  7  7  7 12 12 12 12 12  7  7  7  7  7  6  6  6  6\n",
      "  6  6  6  6  6  6  5  5  5  5  5  7  7  7  7  7  9  9  9  9  9  8  8  8\n",
      "  8  8  6  6  6  6  6  5  5  5  5  5  6  6  6  6  6  7  7  7  7  7  7  7\n",
      "  7  7  7  9  9  9  9  9  5  5  5  5  5  6  6  6  6  6  5  5  5  5  5  6\n",
      "  6  6  6  6  9  9  9  9  9  4  4  4  4  4  3  3  3  3  3  6  6  6  6  6\n",
      "  6  6  6  6  6  3  3  3  3  3  5  5  5  5  5  5  5  5  5  5  8  8  8  8\n",
      "  8  6  6  6  6  6  4  4  4  4  4  7  7  7  7  7  7  7  7  7  7  5  5  5\n",
      "  5  5  6  6  6  6  6  5  5  5  5  5  2  2  2  2  2  4  4  4  4  4  7  7\n",
      "  7  7  7  5  5  5  5  5  5  5  5  5  5  7  7  7  7  7  7  7  7  7  7  4\n",
      "  4  4  4  4  9  9  9  9  9  3  3  3  3  3  5  5  5  5  5  9  9  9  9  9\n",
      "  8  8  8  8  8  5  5  5  5  5  3  3  3  3  3 10 10 10 10 10  3  3  3  3\n",
      "  3  6  6  6  6  6  8  8  8  8  8  1  1  1  1  1  6  6  6  6  6 14 14 14\n",
      " 14 14  6  6  6  6  6  4  4  4  4  4  6  6  6  6  6  5  5  5  5  5  5  5\n",
      "  5  5  5  4  4  4  4  4  9  9  9  9  9  4  4  4  4  4  8  8  8  8  8  3\n",
      "  3  3  3  3 11 11 11 11 11  5  5  5  5  5  9  9  9  9  9  1  1  1  1  1\n",
      "  5  5  5  5  5  2  2  2  2  2  7  7  7  7  7  6  6  6  6  6  5  5  5  5\n",
      "  5  6  6  6  6  6  3  3  3  3  3  8  8  8  8  8  4  4  4  4  4  6  6  6\n",
      "  6  6  8  8  8  8  8  9  9  9  9  9  5  5  5  5  5  5  5  5  5  5  9  9\n",
      "  9  9  9  6  6  6  6  6  6  6  6  6  6  8  8  8  8  8 14 14 14 14 14  5\n",
      "  5  5  5  5  8  8  8  8  8  9  9  9  9  9  7  7  7  7  7  7  7  7  7  7\n",
      "  7  7  7  7  7  8  8  8  8  8  5  5  5  5  5 11 11 11 11 11  8  8  8  8\n",
      "  8  8  8  8  8  8  8  8  8  8  8  5  5  5  5  5  7  7  7  7  7 10 10 10\n",
      " 10 10  7  7  7  7  7  7  7  7  7  7  9  9  9  9  9  4  4  4  4  4  7  7\n",
      "  7  7  7 11 11 11 11 11 13 13 13 13 13  6  6  6  6  6 10 10 10 10 10  7\n",
      "  7  7  7  7  5  5  5  5  5  8  8  8  8  8  9  9  9  9  9  7  7  7  7  7\n",
      "  9  9  9  9  9  7  7  7  7  7  7  7  7  7  7  7  7  7  7  7  4  4  4  4\n",
      "  4 12 12 12 12 12  8  8  8  8  8 10 10 10 10 10 13 13 13 13 13 16 16 16\n",
      " 16 16 15 15 15 15 15  9  9  9  9  9 10 10 10 10 10 12 12 12 12 12 10 10\n",
      " 10 10 10 11 11 11 11 11 11 11 11 11 11  9  9  9  9  9 13 13 13 13 13  8\n",
      "  8  8  8  8 12 12 12 12 12 11 11 11 11 11 13 13 13 13 13 11 11 11 11 11\n",
      "  7  7  7  7  7  0  0  0  0  0  7  7  7  7  7  9  9  9  9  9  7  7  7  7\n",
      "  7  7  7  7  7  7  9  9  9  9  9 13 13 13 13 13 12 12 12 12 12 11 11 11\n",
      " 11 11 12 12 12 12 12  5  5  5  5  5  5  5  5  5  5 11 11 11 11 11  8  8\n",
      "  8  8  8  7  7  7  7  7]\n",
      "continuous\n",
      "multiclass\n",
      "multiclass\n"
     ]
    }
   ],
   "source": [
    "from sklearn import preprocessing\n",
    "from sklearn import utils\n",
    "\n",
    "lab_enc = preprocessing.LabelEncoder()\n",
    "Train_chest_encoded = lab_enc.fit_transform(Train_chest)\n",
    "print(Train_chest_encoded)\n",
    "print(utils.multiclass.type_of_target(Train_chest))\n",
    "print(utils.multiclass.type_of_target(Train_chest.astype('int')))\n",
    "print(utils.multiclass.type_of_target(Train_chest_encoded))"
   ]
  },
  {
   "cell_type": "code",
   "execution_count": 10,
   "metadata": {},
   "outputs": [
    {
     "name": "stdout",
     "output_type": "stream",
     "text": [
      "LinearRegression\n",
      "[12.74789965 13.8438057  11.29878322 10.39733771 13.90981774 12.47810022\n",
      " 13.00528498 12.34614398 12.20908439 12.49615912 12.98024485 10.70489203\n",
      " 11.86357438 11.35457289 12.46981363 12.04248476 11.82341178 10.08456799\n",
      " 11.72036908 11.54446959 12.34639194 13.08948266 12.31075013 12.39108568\n",
      " 11.32397634 12.13379826 11.25296192 13.21048939 11.8307825  13.30044837\n",
      " 12.24324126 12.41071552 13.60043057 17.57620351 12.4952681  14.88598747\n",
      " 17.10847094 15.2262202  15.92920468 13.09286871]\n",
      "The MAE is  1.5510646351500714\n",
      "The MSE is  3.7881982724636765\n",
      "The RMSE is  1.9463294357491685\n",
      "The Max Error is 4.676588216552501\n",
      "The Min Error is 0.04248475734669732\n"
     ]
    }
   ],
   "source": [
    "from sklearn import metrics, svm\n",
    "from sklearn.svm import SVC\n",
    "from sklearn.linear_model import LinearRegression\n",
    "from sklearn.linear_model import LogisticRegression\n",
    "from sklearn.tree import DecisionTreeClassifier\n",
    "from sklearn.neighbors import KNeighborsClassifier\n",
    "from sklearn.discriminant_analysis import LinearDiscriminantAnalysis\n",
    "from sklearn.naive_bayes import GaussianNB\n",
    "\n",
    "Lr = LinearRegression()\n",
    "Lr.fit(Train_data, Train_chest)\n",
    "print(\"LinearRegression\")\n",
    "Predicted_lr =Lr.predict(Test_data)\n",
    "print(Predicted_lr)\n",
    "\n",
    "print(\"The MAE is \", metrics.mean_absolute_error(Test_chest, Predicted_lr))\n",
    "\n",
    "print(\"The MSE is \", metrics.mean_squared_error(Test_chest, Predicted_lr))\n",
    "\n",
    "print(\"The RMSE is \", np.sqrt(metrics.mean_squared_error(Test_chest, Predicted_lr)))\n",
    "\n",
    "Error_lr = (abs(Test_chest - Predicted_lr))\n",
    "print(\"The Max Error is\", np.max(Error_lr))\n",
    "\n",
    "print(\"The Min Error is\", np.min(Error_lr))"
   ]
  },
  {
   "cell_type": "code",
   "execution_count": 11,
   "metadata": {},
   "outputs": [
    {
     "name": "stderr",
     "output_type": "stream",
     "text": [
      "C:\\Users\\Justincul\\Anaconda3\\lib\\site-packages\\sklearn\\svm\\base.py:193: FutureWarning: The default value of gamma will change from 'auto' to 'scale' in version 0.22 to account better for unscaled features. Set gamma explicitly to 'auto' or 'scale' to avoid this warning.\n",
      "  \"avoid this warning.\", FutureWarning)\n"
     ]
    },
    {
     "name": "stdout",
     "output_type": "stream",
     "text": [
      "SVR\n",
      "[13.00759494 13.00759494 13.00759494 13.00759494 13.00759494 13.00759494\n",
      " 13.00759494 13.00759494 13.00759494 13.00759494 13.00759494 13.00759494\n",
      " 13.00759494 13.00759494 13.00759494 13.00759494 13.00759494 13.00759494\n",
      " 13.00759494 13.00759494 13.00759494 13.00759494 13.00759494 13.00759494\n",
      " 13.00759494 13.00759494 13.00759494 13.00759494 13.00759494 13.00759494\n",
      " 13.00759494 13.00759494 13.00759494 13.00759494 13.00759494 13.00759494\n",
      " 13.00759494 13.00759494 13.00759494 13.00759494]\n",
      "The MAE is  1.3757594936708886\n",
      "The MSE is  3.195500721038281\n",
      "The RMSE is  1.7875963529382917\n",
      "The Max Error is 3.5075949367088857\n",
      "The Min Error is 0.007594936708885669\n"
     ]
    }
   ],
   "source": [
    "svr = svm.SVR()\n",
    "svr.fit(Train_data, Train_chest)\n",
    "print(\"SVR\")\n",
    "Predicted_svr = svr.predict(Test_data)\n",
    "print(Predicted_svr)\n",
    "\n",
    "print(\"The MAE is \", metrics.mean_absolute_error(Test_chest, Predicted_svr))\n",
    "\n",
    "print(\"The MSE is \", metrics.mean_squared_error(Test_chest, Predicted_svr))\n",
    "\n",
    "print(\"The RMSE is \", np.sqrt(metrics.mean_squared_error(Test_chest, Predicted_svr)))\n",
    "\n",
    "Error_svr = (abs(Test_chest - Predicted_svr))\n",
    "print(\"The Max Error is\", np.max(Error_svr))\n",
    "\n",
    "print(\"The Min Error is\", np.min(Error_svr))"
   ]
  },
  {
   "cell_type": "code",
   "execution_count": 12,
   "metadata": {},
   "outputs": [
    {
     "name": "stderr",
     "output_type": "stream",
     "text": [
      "C:\\Users\\Justincul\\Anaconda3\\lib\\site-packages\\sklearn\\linear_model\\logistic.py:432: FutureWarning: Default solver will be changed to 'lbfgs' in 0.22. Specify a solver to silence this warning.\n",
      "  FutureWarning)\n",
      "C:\\Users\\Justincul\\Anaconda3\\lib\\site-packages\\sklearn\\linear_model\\logistic.py:469: FutureWarning: Default multi_class will be changed to 'auto' in 0.22. Specify the multi_class option to silence this warning.\n",
      "  \"this warning.\", FutureWarning)\n"
     ]
    },
    {
     "name": "stdout",
     "output_type": "stream",
     "text": [
      "LogisticRegression\n",
      "[ 7  9  5  4  7  5  5  5  5  5  7  4  4  5  5  6  5  7  5  6  3  7  7  5\n",
      "  5  6  7 12  4 12  5  5  7 12  5  9 12 11  9  7]\n",
      "The MAE is  6.775\n",
      "The MSE is  51.85\n",
      "The RMSE is  7.200694410957877\n",
      "The Max Error is 12.0\n",
      "The Min Error is 0.5\n"
     ]
    }
   ],
   "source": [
    "LogReg = LogisticRegression()\n",
    "LogReg.fit(Train_data, Train_chest_encoded)\n",
    "print(\"LogisticRegression\")\n",
    "Predicted_lgr = LogReg.predict(Test_data)\n",
    "print(Predicted_lgr)\n",
    "\n",
    "print(\"The MAE is \", metrics.mean_absolute_error(Test_chest, Predicted_lgr))\n",
    "\n",
    "print(\"The MSE is \", metrics.mean_squared_error(Test_chest, Predicted_lgr))\n",
    "\n",
    "print(\"The RMSE is \", np.sqrt(metrics.mean_squared_error(Test_chest, Predicted_lgr)))\n",
    "\n",
    "Error_lgr = (abs(Test_chest - Predicted_lgr))\n",
    "print(\"The Max Error is\", np.max(Error_lgr))\n",
    "\n",
    "print(\"The Min Error is\", np.min(Error_lgr))"
   ]
  },
  {
   "cell_type": "code",
   "execution_count": 13,
   "metadata": {},
   "outputs": [
    {
     "name": "stdout",
     "output_type": "stream",
     "text": [
      "DecisionTreeRegressor(criterion='mse', max_depth=None, max_features=None,\n",
      "                      max_leaf_nodes=None, min_impurity_decrease=0.0,\n",
      "                      min_impurity_split=None, min_samples_leaf=1,\n",
      "                      min_samples_split=2, min_weight_fraction_leaf=0.0,\n",
      "                      presort=False, random_state=None, splitter='best')\n",
      "[13.5 12.  13.5 13.  13.5 12.5 12.  11.5 12.5 14.  13.  13.  13.  10.\n",
      " 13.  13.5 12.  12.5 16.  13.  13.  11.5 12.  14.  13.5 10.5 12.  13.\n",
      " 16.  13.  12.5 13.  12.5 13.  14.  13.  12.  13.  14.  15.5]\n",
      "The MAE is  1.625\n",
      "The MSE is  4.35\n",
      "The RMSE is  2.085665361461421\n",
      "The Max Error is 4.5\n",
      "The Min Error is 0.0\n"
     ]
    }
   ],
   "source": [
    "from sklearn.tree import DecisionTreeRegressor\n",
    "from sklearn.pipeline import Pipeline\n",
    "model_name = \"Decision Tree Regressor\"\n",
    "decisionTreeRegressor = DecisionTreeRegressor()\n",
    "\n",
    "#dtr_model = Pipeline(steps=[('preprocessorAll',preprocessorForAllColumns),('regressor', decisionTreeRegressor)]) \n",
    "decisionTreeRegressor.fit(Train_data, Train_chest)\n",
    "y_pred_dtr = decisionTreeRegressor.predict(Test_data)\n",
    "\n",
    "print(decisionTreeRegressor)\n",
    "print(y_pred_dtr)\n",
    "\n",
    "print(\"The MAE is \", metrics.mean_absolute_error(Test_chest, y_pred_dtr))\n",
    "\n",
    "print(\"The MSE is \", metrics.mean_squared_error(Test_chest, y_pred_dtr))\n",
    "\n",
    "print(\"The RMSE is \", np.sqrt(metrics.mean_squared_error(Test_chest, y_pred_dtr)))\n",
    "\n",
    "Error_dtr = (abs(Test_chest - y_pred_dtr))\n",
    "print(\"The Max Error is\", np.max(Error_dtr))\n",
    "\n",
    "print(\"The Min Error is\", np.min(Error_dtr))"
   ]
  },
  {
   "cell_type": "code",
   "execution_count": 14,
   "metadata": {},
   "outputs": [
    {
     "name": "stderr",
     "output_type": "stream",
     "text": [
      "C:\\Users\\Justincul\\Anaconda3\\lib\\site-packages\\sklearn\\ensemble\\forest.py:245: FutureWarning: The default value of n_estimators will change from 10 in version 0.20 to 100 in 0.22.\n",
      "  \"10 in version 0.20 to 100 in 0.22.\", FutureWarning)\n"
     ]
    },
    {
     "name": "stdout",
     "output_type": "stream",
     "text": [
      "[12.55 12.7  12.8  12.4  12.3  12.5  13.05 12.65 13.1  13.55 13.   13.25\n",
      " 12.5  12.25 11.75 12.1  13.1  12.5  12.65 13.4  11.65 12.5  12.85 12.4\n",
      " 13.2  12.85 14.35 13.6  13.1  14.65 14.3  13.2  13.45 14.25 13.85 15.5\n",
      " 14.1  14.35 12.75 14.8 ]\n",
      "The MAE is 1.1475000000000002\n",
      "The MSE is 2.081125\n",
      "The RMSE is 1.442610481037761\n",
      "The Max Error is 3.4000000000000004\n",
      "The Min Error is 0.09999999999999964\n"
     ]
    }
   ],
   "source": [
    "from sklearn.ensemble import RandomForestRegressor\n",
    "\n",
    "model_name = \"Random Forest Regressor\"\n",
    "rfr_model = RandomForestRegressor()\n",
    "#rfr_model = Pipeline(steps=[('preprocessorAll',preprocessorForAllColumns),('regressor', randomForestRegressor)]) \n",
    "\n",
    "rfr_model.fit(Train_data, Train_chest)\n",
    "y_pred_rfr = rfr_model.predict(Test_data)\n",
    "print(y_pred_rfr)\n",
    "\n",
    "print(\"The MAE is\", metrics.mean_absolute_error(Test_chest, y_pred_rfr))\n",
    "\n",
    "print(\"The MSE is\", metrics.mean_squared_error(Test_chest, y_pred_rfr))\n",
    "\n",
    "print(\"The RMSE is\", np.sqrt(metrics.mean_squared_error(Test_chest, y_pred_rfr)))\n",
    "\n",
    "Error_rfr = (abs(Test_chest -  y_pred_rfr))\n",
    "print(\"The Max Error is\", np.max(Error_rfr))\n",
    "\n",
    "print(\"The Min Error is\", np.min(Error_rfr))"
   ]
  },
  {
   "cell_type": "code",
   "execution_count": null,
   "metadata": {},
   "outputs": [],
   "source": []
  }
 ],
 "metadata": {
  "kernelspec": {
   "display_name": "Python 3",
   "language": "python",
   "name": "python3"
  },
  "language_info": {
   "codemirror_mode": {
    "name": "ipython",
    "version": 3
   },
   "file_extension": ".py",
   "mimetype": "text/x-python",
   "name": "python",
   "nbconvert_exporter": "python",
   "pygments_lexer": "ipython3",
   "version": "3.7.4"
  }
 },
 "nbformat": 4,
 "nbformat_minor": 2
}
