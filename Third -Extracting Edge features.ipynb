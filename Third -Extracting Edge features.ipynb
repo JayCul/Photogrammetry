{
 "cells": [
  {
   "cell_type": "code",
   "execution_count": 1,
   "metadata": {},
   "outputs": [],
   "source": [
    "import cv2\n",
    "import numpy as np\n",
    "from matplotlib import pyplot as plt\n",
    "import os\n",
    "import glob\n",
    "from skimage.filters import prewitt_h, prewitt_v\n",
    "from skimage.io import imread, imshow\n",
    "%matplotlib inline"
   ]
  },
  {
   "cell_type": "code",
   "execution_count": 2,
   "metadata": {},
   "outputs": [
    {
     "data": {
      "text/plain": [
       "<matplotlib.image.AxesImage at 0x29c15e6df48>"
      ]
     },
     "execution_count": 2,
     "metadata": {},
     "output_type": "execute_result"
    },
    {
     "data": {
      "image/png": "[encoded data removed]",
      "text/plain": [
       "<Figure size 432x288 with 2 Axes>"
      ]
     },
     "metadata": {
      "needs_background": "light"
     },
     "output_type": "display_data"
    }
   ],
   "source": [
    "path = r'C:\\Users\\Justincul\\Documents\\Bracket_Stuff\\Final_year_project\\project_images\\100\\100_00002.jpg'\n",
    "image = imread(path, as_gray = True)\n",
    "\n",
    "edges_prewitt_horizontal = prewitt_h(image)\n",
    "edges_prewitt_vertical = prewitt_v(image)\n",
    "\n",
    "imshow(edges_prewitt_vertical, cmap = 'gray')"
   ]
  },
  {
   "cell_type": "code",
   "execution_count": 3,
   "metadata": {},
   "outputs": [],
   "source": [
    "import numpy as np\n",
    "import pandas as pd\n",
    "file1=pd.read_excel('C:/Users/Justincul/Documents/Bracket_Stuff/Final_year_project/All Measurements.xlsx')\n",
    "y= []\n",
    "y.append(file1['Chest'])"
   ]
  },
  {
   "cell_type": "code",
   "execution_count": 4,
   "metadata": {},
   "outputs": [],
   "source": [
    "from os import listdir\n",
    "from os.path import isfile, join\n",
    "from skimage import io\n",
    "import numpy as np\n",
    "import cv2\n",
    "\n",
    "Train_data = []\n",
    "Train_chest = []\n",
    "\n",
    "Test_data = []\n",
    "Test_chest = []\n",
    "\n",
    "mypath = r'C:/Users/Justincul/Documents/Bracket_Stuff/Final_year_project/project_images/front'\n",
    "for f in range(0, file1.shape[0]):\n",
    "    im6 = cv2.imread(join(mypath,file1.iloc[f]['Front_Img_name']))\n",
    "    im6_gray = cv2.cvtColor(im6, cv2.COLOR_BGR2GRAY)\n",
    "    img_resize= cv2.resize(im6_gray,(224, 224))\n",
    "    edges_prewitt_horizontal = prewitt_h(img_resize)\n",
    "    edges_prewitt_vertical = prewitt_v(img_resize)\n",
    "    vec6 = np.reshape(edges_prewitt_vertical, [1, 224*224])\n",
    "\n",
    "    if (file1.iloc[f]['Is_train']):\n",
    "        Test_data.append(vec6)\n",
    "        Test_chest.append(file1.iloc[f]['Chest'])\n",
    "    else:\n",
    "        Train_data.append(vec6)\n",
    "        Train_chest.append(file1.iloc[f]['Chest'])\n",
    "        \n",
    "Train_chest = (np.array(Train_chest).astype(np.float32))\n",
    "Train_data = np.matrix(np.array(Train_data))\n",
    "\n",
    "Test_chest = (np.array(Test_chest).astype(np.float32))\n",
    "Test_data = np.matrix(np.array(Test_data))"
   ]
  },
  {
   "cell_type": "code",
   "execution_count": 5,
   "metadata": {},
   "outputs": [
    {
     "data": {
      "text/plain": [
       "(40, 50176)"
      ]
     },
     "execution_count": 5,
     "metadata": {},
     "output_type": "execute_result"
    }
   ],
   "source": [
    "Test_data.shape"
   ]
  },
  {
   "cell_type": "code",
   "execution_count": 6,
   "metadata": {},
   "outputs": [
    {
     "data": {
      "text/plain": [
       "(800, 50176)"
      ]
     },
     "execution_count": 6,
     "metadata": {},
     "output_type": "execute_result"
    }
   ],
   "source": [
    "Train_data.shape"
   ]
  },
  {
   "cell_type": "code",
   "execution_count": 7,
   "metadata": {},
   "outputs": [
    {
     "data": {
      "text/plain": [
       "-1.4268100589909238e-16"
      ]
     },
     "execution_count": 7,
     "metadata": {},
     "output_type": "execute_result"
    }
   ],
   "source": [
    "np.sum(Test_data[1] - Test_data[2])"
   ]
  },
  {
   "cell_type": "code",
   "execution_count": 8,
   "metadata": {},
   "outputs": [
    {
     "name": "stdout",
     "output_type": "stream",
     "text": [
      "[11 11 11 11 11  7  7  7  7  7 12 12 12 12 12  7  7  7  7  7  6  6  6  6\n",
      "  6  6  6  6  6  6  5  5  5  5  5  7  7  7  7  7  9  9  9  9  9  8  8  8\n",
      "  8  8  6  6  6  6  6  5  5  5  5  5  6  6  6  6  6  7  7  7  7  7  7  7\n",
      "  7  7  7  9  9  9  9  9  5  5  5  5  5  6  6  6  6  6  5  5  5  5  5  6\n",
      "  6  6  6  6  9  9  9  9  9  4  4  4  4  4  3  3  3  3  3  6  6  6  6  6\n",
      "  6  6  6  6  6  3  3  3  3  3  5  5  5  5  5  5  5  5  5  5  8  8  8  8\n",
      "  8  6  6  6  6  6  4  4  4  4  4  7  7  7  7  7  7  7  7  7  7  5  5  5\n",
      "  5  5  6  6  6  6  6  5  5  5  5  5  2  2  2  2  2  4  4  4  4  4  7  7\n",
      "  7  7  7  5  5  5  5  5  5  5  5  5  5  7  7  7  7  7  7  7  7  7  7  4\n",
      "  4  4  4  4  9  9  9  9  9  3  3  3  3  3  5  5  5  5  5  9  9  9  9  9\n",
      "  8  8  8  8  8  5  5  5  5  5  3  3  3  3  3 10 10 10 10 10  3  3  3  3\n",
      "  3  6  6  6  6  6  8  8  8  8  8  1  1  1  1  1  6  6  6  6  6 14 14 14\n",
      " 14 14  6  6  6  6  6  4  4  4  4  4  6  6  6  6  6  5  5  5  5  5  5  5\n",
      "  5  5  5  4  4  4  4  4  9  9  9  9  9  4  4  4  4  4  8  8  8  8  8  3\n",
      "  3  3  3  3 11 11 11 11 11  5  5  5  5  5  9  9  9  9  9  1  1  1  1  1\n",
      "  5  5  5  5  5  2  2  2  2  2  7  7  7  7  7  6  6  6  6  6  5  5  5  5\n",
      "  5  6  6  6  6  6  3  3  3  3  3  8  8  8  8  8  4  4  4  4  4  6  6  6\n",
      "  6  6  8  8  8  8  8  9  9  9  9  9  5  5  5  5  5  5  5  5  5  5  9  9\n",
      "  9  9  9  6  6  6  6  6  6  6  6  6  6  8  8  8  8  8 14 14 14 14 14  5\n",
      "  5  5  5  5  8  8  8  8  8  9  9  9  9  9  7  7  7  7  7  7  7  7  7  7\n",
      "  7  7  7  7  7  8  8  8  8  8  5  5  5  5  5 11 11 11 11 11  8  8  8  8\n",
      "  8  8  8  8  8  8  8  8  8  8  8  5  5  5  5  5  7  7  7  7  7 10 10 10\n",
      " 10 10  7  7  7  7  7  7  7  7  7  7  9  9  9  9  9  4  4  4  4  4  7  7\n",
      "  7  7  7 11 11 11 11 11 13 13 13 13 13  6  6  6  6  6 10 10 10 10 10  7\n",
      "  7  7  7  7  5  5  5  5  5  8  8  8  8  8  9  9  9  9  9  7  7  7  7  7\n",
      "  9  9  9  9  9  7  7  7  7  7  7  7  7  7  7  7  7  7  7  7  4  4  4  4\n",
      "  4 12 12 12 12 12  8  8  8  8  8 10 10 10 10 10 13 13 13 13 13 16 16 16\n",
      " 16 16 15 15 15 15 15  9  9  9  9  9 10 10 10 10 10 12 12 12 12 12 10 10\n",
      " 10 10 10 11 11 11 11 11 11 11 11 11 11  9  9  9  9  9 13 13 13 13 13  8\n",
      "  8  8  8  8 12 12 12 12 12 11 11 11 11 11 13 13 13 13 13 11 11 11 11 11\n",
      "  7  7  7  7  7  0  0  0  0  0  7  7  7  7  7  9  9  9  9  9  7  7  7  7\n",
      "  7  7  7  7  7  7  9  9  9  9  9 13 13 13 13 13 12 12 12 12 12 11 11 11\n",
      " 11 11 12 12 12 12 12  5  5  5  5  5  5  5  5  5  5 11 11 11 11 11  8  8\n",
      "  8  8  8  7  7  7  7  7]\n",
      "continuous\n",
      "multiclass\n",
      "multiclass\n"
     ]
    }
   ],
   "source": [
    "from sklearn import preprocessing\n",
    "from sklearn import utils\n",
    "\n",
    "lab_enc = preprocessing.LabelEncoder()\n",
    "Train_chest_encoded = lab_enc.fit_transform(Train_chest)\n",
    "print(Train_chest_encoded)\n",
    "print(utils.multiclass.type_of_target(Train_chest))\n",
    "print(utils.multiclass.type_of_target(Train_chest.astype('int')))\n",
    "print(utils.multiclass.type_of_target(Train_chest_encoded))"
   ]
  },
  {
   "cell_type": "code",
   "execution_count": 9,
   "metadata": {},
   "outputs": [
    {
     "name": "stdout",
     "output_type": "stream",
     "text": [
      "LinearRegression\n",
      "[12.90536853 13.3821316  10.5915556  11.38098811 12.82391575 12.68145985\n",
      " 12.77417066 12.67591275 12.73368949 13.74513657 12.96012725 11.47153903\n",
      " 11.14551755 12.9328626  13.2970524  12.32602392 12.74574432 12.12478584\n",
      " 10.85648224 11.51811276 12.89188284 13.06815603 14.30936981 12.72257464\n",
      " 12.04319212 13.18325482 12.56474616 15.04692047 11.89474502 14.07223206\n",
      " 11.32525421 13.51128133 13.05777306 13.78045606 14.26632434 13.68738138\n",
      " 14.41826622 15.75566376 13.11254845 13.52613505]\n",
      "The MAE is  1.657877747536435\n",
      "The MSE is  3.9323088387935825\n",
      "The RMSE is  1.9830050022109331\n",
      "The Max Error is 4.10525497845291\n",
      "The Min Error is 0.06713740331984042\n"
     ]
    }
   ],
   "source": [
    "from sklearn import metrics, svm\n",
    "from sklearn.svm import SVC\n",
    "from sklearn.linear_model import LinearRegression\n",
    "from sklearn.linear_model import LogisticRegression\n",
    "from sklearn.tree import DecisionTreeClassifier\n",
    "from sklearn.neighbors import KNeighborsClassifier\n",
    "from sklearn.discriminant_analysis import LinearDiscriminantAnalysis\n",
    "from sklearn.naive_bayes import GaussianNB\n",
    "\n",
    "Lr = LinearRegression()\n",
    "Lr.fit(Train_data, Train_chest)\n",
    "print(\"LinearRegression\")\n",
    "Predicted_lr =Lr.predict(Test_data)\n",
    "print(Predicted_lr)\n",
    "\n",
    "print(\"The MAE is \", metrics.mean_absolute_error(Test_chest, Predicted_lr))\n",
    "\n",
    "print(\"The MSE is \", metrics.mean_squared_error(Test_chest, Predicted_lr))\n",
    "\n",
    "print(\"The RMSE is \", np.sqrt(metrics.mean_squared_error(Test_chest, Predicted_lr)))\n",
    "\n",
    "Error_lr = (abs(Test_chest - Predicted_lr))\n",
    "print(\"The Max Error is\", np.max(Error_lr))\n",
    "\n",
    "print(\"The Min Error is\", np.min(Error_lr))"
   ]
  },
  {
   "cell_type": "code",
   "execution_count": 10,
   "metadata": {},
   "outputs": [
    {
     "name": "stderr",
     "output_type": "stream",
     "text": [
      "C:\\Users\\Justincul\\Anaconda3\\lib\\site-packages\\sklearn\\svm\\base.py:193: FutureWarning: The default value of gamma will change from 'auto' to 'scale' in version 0.22 to account better for unscaled features. Set gamma explicitly to 'auto' or 'scale' to avoid this warning.\n",
      "  \"avoid this warning.\", FutureWarning)\n"
     ]
    },
    {
     "name": "stdout",
     "output_type": "stream",
     "text": [
      "SVR\n",
      "[12.91405179 12.91391417 12.89742133 12.89036262 12.90333526 12.90511416\n",
      " 12.91167551 12.89799528 12.90706474 12.91971412 12.89994594 12.92581353\n",
      " 12.89227931 12.91902172 12.90397511 12.90859929 12.90639346 12.91062089\n",
      " 12.89423672 12.90817453 12.91714909 12.90816105 12.91065558 12.89953976\n",
      " 12.90805127 12.89223174 12.91852433 12.93982298 12.90774196 12.92755031\n",
      " 12.88324993 12.90947022 12.91817579 12.93842233 12.94830804 12.90919365\n",
      " 12.92896246 12.94010832 12.90719998 12.93537024]\n",
      "The MAE is  1.3893153414043156\n",
      "The MSE is  3.24549699282546\n",
      "The RMSE is  1.8015262953466595\n",
      "The Max Error is 3.5936065372606407\n",
      "The Min Error is 0.059891678342582466\n"
     ]
    }
   ],
   "source": [
    "svr = svm.SVR()\n",
    "svr.fit(Train_data, Train_chest)\n",
    "print(\"SVR\")\n",
    "Predicted_svr = svr.predict(Test_data)\n",
    "print(Predicted_svr)\n",
    "\n",
    "print(\"The MAE is \", metrics.mean_absolute_error(Test_chest, Predicted_svr))\n",
    "\n",
    "print(\"The MSE is \", metrics.mean_squared_error(Test_chest, Predicted_svr))\n",
    "\n",
    "print(\"The RMSE is \", np.sqrt(metrics.mean_squared_error(Test_chest, Predicted_svr)))\n",
    "\n",
    "Error_svr = (abs(Test_chest - Predicted_svr))\n",
    "print(\"The Max Error is\", np.max(Error_svr))\n",
    "\n",
    "print(\"The Min Error is\", np.min(Error_svr))"
   ]
  },
  {
   "cell_type": "code",
   "execution_count": 11,
   "metadata": {},
   "outputs": [
    {
     "name": "stderr",
     "output_type": "stream",
     "text": [
      "C:\\Users\\Justincul\\Anaconda3\\lib\\site-packages\\sklearn\\linear_model\\logistic.py:432: FutureWarning: Default solver will be changed to 'lbfgs' in 0.22. Specify a solver to silence this warning.\n",
      "  FutureWarning)\n",
      "C:\\Users\\Justincul\\Anaconda3\\lib\\site-packages\\sklearn\\linear_model\\logistic.py:469: FutureWarning: Default multi_class will be changed to 'auto' in 0.22. Specify the multi_class option to silence this warning.\n",
      "  \"this warning.\", FutureWarning)\n"
     ]
    },
    {
     "name": "stdout",
     "output_type": "stream",
     "text": [
      "LogisticRegression\n",
      "[ 6  6  5  6  7  5  9  1  7  6  7  8  5  9  7  5  7  5  5  6  9  6  5  5\n",
      "  7  5  7  7  7  9  5  6  9  8  5  6  7 11  5  9]\n",
      "The MAE is  6.8\n",
      "The MSE is  50.475\n",
      "The RMSE is  7.10457599016296\n",
      "The Max Error is 10.0\n",
      "The Min Error is 2.0\n"
     ]
    }
   ],
   "source": [
    "LogReg = LogisticRegression()\n",
    "LogReg.fit(Train_data, Train_chest_encoded)\n",
    "print(\"LogisticRegression\")\n",
    "Predicted_lgr = LogReg.predict(Test_data)\n",
    "print(Predicted_lgr)\n",
    "\n",
    "print(\"The MAE is \", metrics.mean_absolute_error(Test_chest, Predicted_lgr))\n",
    "\n",
    "print(\"The MSE is \", metrics.mean_squared_error(Test_chest, Predicted_lgr))\n",
    "\n",
    "print(\"The RMSE is \", np.sqrt(metrics.mean_squared_error(Test_chest, Predicted_lgr)))\n",
    "\n",
    "Error_lgr = (abs(Test_chest - Predicted_lgr))\n",
    "print(\"The Max Error is\", np.max(Error_lgr))\n",
    "\n",
    "print(\"The Min Error is\", np.min(Error_lgr))"
   ]
  },
  {
   "cell_type": "code",
   "execution_count": 12,
   "metadata": {},
   "outputs": [
    {
     "name": "stdout",
     "output_type": "stream",
     "text": [
      "DecisionTreeRegressor(criterion='mse', max_depth=None, max_features=None,\n",
      "                      max_leaf_nodes=None, min_impurity_decrease=0.0,\n",
      "                      min_impurity_split=None, min_samples_leaf=1,\n",
      "                      min_samples_split=2, min_weight_fraction_leaf=0.0,\n",
      "                      presort=False, random_state=None, splitter='best')\n",
      "[12.  11.5 12.  12.  12.  13.5 12.  11.  13.5 13.5 13.  13.5 13.  15.\n",
      " 12.5 12.  12.  12.5 14.  14.5 13.5 11.   1.  12.  11.  12.  16.  12.\n",
      " 15.5 15.  15.  14.  15.  13.   1.  16.5 16.5 12.  15.5 12. ]\n",
      "The MAE is  1.8625\n",
      "The MSE is  10.26875\n",
      "The RMSE is  3.204489038832868\n",
      "The Max Error is 13.0\n",
      "The Min Error is 0.0\n"
     ]
    }
   ],
   "source": [
    "from sklearn.tree import DecisionTreeRegressor\n",
    "from sklearn.pipeline import Pipeline\n",
    "model_name = \"Decision Tree Regressor\"\n",
    "decisionTreeRegressor = DecisionTreeRegressor()\n",
    "\n",
    "#dtr_model = Pipeline(steps=[('preprocessorAll',preprocessorForAllColumns),('regressor', decisionTreeRegressor)]) \n",
    "decisionTreeRegressor.fit(Train_data, Train_chest)\n",
    "y_pred_dtr = decisionTreeRegressor.predict(Test_data)\n",
    "\n",
    "print(decisionTreeRegressor)\n",
    "print(y_pred_dtr)\n",
    "\n",
    "print(\"The MAE is \", metrics.mean_absolute_error(Test_chest, y_pred_dtr))\n",
    "\n",
    "print(\"The MSE is \", metrics.mean_squared_error(Test_chest, y_pred_dtr))\n",
    "\n",
    "print(\"The RMSE is \", np.sqrt(metrics.mean_squared_error(Test_chest, y_pred_dtr)))\n",
    "\n",
    "Error_dtr = (abs(Test_chest - y_pred_dtr))\n",
    "print(\"The Max Error is\", np.max(Error_dtr))\n",
    "\n",
    "print(\"The Min Error is\", np.min(Error_dtr))"
   ]
  },
  {
   "cell_type": "code",
   "execution_count": 13,
   "metadata": {},
   "outputs": [
    {
     "name": "stderr",
     "output_type": "stream",
     "text": [
      "C:\\Users\\Justincul\\Anaconda3\\lib\\site-packages\\sklearn\\ensemble\\forest.py:245: FutureWarning: The default value of n_estimators will change from 10 in version 0.20 to 100 in 0.22.\n",
      "  \"10 in version 0.20 to 100 in 0.22.\", FutureWarning)\n"
     ]
    },
    {
     "name": "stdout",
     "output_type": "stream",
     "text": [
      "[13.75 12.4  13.95 12.35 12.6  12.85 12.6  12.4  13.1  12.4  12.5  12.6\n",
      " 12.95 12.95 12.65 12.45 13.05 13.5  12.15 11.75 13.05 12.9  10.35 12.6\n",
      " 12.4  13.25  9.05 13.05 13.75 13.65 13.1  13.5  14.5  13.35 11.85 14.85\n",
      " 14.75 13.35 13.65 13.4 ]\n",
      "The MAE is 1.3425\n",
      "The MSE is 3.3150000000000004\n",
      "The RMSE is 1.8207141456033125\n",
      "The Max Error is 5.949999999999999\n",
      "The Min Error is 0.0\n"
     ]
    }
   ],
   "source": [
    "from sklearn.ensemble import RandomForestRegressor\n",
    "\n",
    "model_name = \"Random Forest Regressor\"\n",
    "rfr_model = RandomForestRegressor()\n",
    "#rfr_model = Pipeline(steps=[('preprocessorAll',preprocessorForAllColumns),('regressor', randomForestRegressor)]) \n",
    "\n",
    "rfr_model.fit(Train_data, Train_chest)\n",
    "y_pred_rfr = rfr_model.predict(Test_data)\n",
    "print(y_pred_rfr)\n",
    "\n",
    "print(\"The MAE is\", metrics.mean_absolute_error(Test_chest, y_pred_rfr))\n",
    "\n",
    "print(\"The MSE is\", metrics.mean_squared_error(Test_chest, y_pred_rfr))\n",
    "\n",
    "print(\"The RMSE is\", np.sqrt(metrics.mean_squared_error(Test_chest, y_pred_rfr)))\n",
    "\n",
    "Error_rfr = (abs(Test_chest -  y_pred_rfr))\n",
    "print(\"The Max Error is\", np.max(Error_rfr))\n",
    "\n",
    "print(\"The Min Error is\", np.min(Error_rfr))"
   ]
  },
  {
   "cell_type": "code",
   "execution_count": null,
   "metadata": {},
   "outputs": [],
   "source": []
  }
 ],
 "metadata": {
  "kernelspec": {
   "display_name": "Python 3",
   "language": "python",
   "name": "python3"
  },
  "language_info": {
   "codemirror_mode": {
    "name": "ipython",
    "version": 3
   },
   "file_extension": ".py",
   "mimetype": "text/x-python",
   "name": "python",
   "nbconvert_exporter": "python",
   "pygments_lexer": "ipython3",
   "version": "3.7.4"
  }
 },
 "nbformat": 4,
 "nbformat_minor": 2
}
